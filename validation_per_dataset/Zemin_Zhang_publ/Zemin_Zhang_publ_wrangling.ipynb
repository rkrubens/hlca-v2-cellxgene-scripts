{
 "cells": [
  {
   "cell_type": "code",
   "execution_count": 1,
   "metadata": {},
   "outputs": [],
   "source": [
    "import scanpy as sc\n",
    "import pandas as pd\n",
    "import anndata as ad\n",
    "import anndata2ri\n",
    "import os\n",
    "from os.path import join\n",
    "\n",
    "from hlca_v2.ingestion_utils import get_gspread_df, ValidationWorkflow, AnnDataMerger\n",
    "\n",
    "GSPREAD_JSON = \"/home/icb/raphael.kfuri-rubens/data/hlca_v2/google_sheets_api/hlca-v2-8d5fea10d8f3.json\""
   ]
  },
  {
   "cell_type": "code",
   "execution_count": 2,
   "metadata": {},
   "outputs": [],
   "source": [
    "DATASET_ID = \"Zemin_Zhang_publ\"\n",
    "H5AD_PATH = f\"/home/icb/raphael.kfuri-rubens/data/hlca_v2/{DATASET_ID}/{DATASET_ID}.h5ad\""
   ]
  },
  {
   "cell_type": "code",
   "execution_count": 3,
   "metadata": {},
   "outputs": [],
   "source": [
    "# Name constants\n",
    "AUTHOR_CELL_TYPE_L0 = 'author_cell_type_level_0'\n",
    "AUTHOR_CELL_TYPE_L1 = 'author_cell_type_level_1'\n",
    "\n",
    "CELL_TYPE_ONTOLOGY_ID_L0 = 'cell_type_ontology_term_id_level_0'\n",
    "CELL_TYPE_ONTOLOGY_ID_L1 = 'cell_type_ontology_term_id_level_1'\n",
    "\n",
    "CELL_TYPE_ONTOLOGY_LABEL_L0 = 'cell_type_ontology_term_label_level_0'\n",
    "CELL_TYPE_ONTOLOGY_LABEL_L1 = 'cell_type_ontology_term_label_level_1'\n",
    "\n",
    "AUTHOR_CELL_TYPE_DESCRIPTION_L0 = 'author_cell_type_description_level_0'\n",
    "AUTHOR_CELL_TYPE_DESCRIPTION_L1 = 'author_cell_type_description_level_1'\n",
    "\n",
    "MARKER_GENES_L0 = 'author_cell_type_markers_level_0'\n",
    "MARKER_GENES_L1 = 'author_cell_type_markers_level_1'\n",
    "\n",
    "# Finest grained annotation will be generic dataset cell type\n",
    "AUTHOR_CELL_TYPE = 'author_cell_type'\n",
    "CELL_TYPE_ONTOLOGY_ID = 'cell_type_ontology_term_id'\n",
    "CELL_TYPE_ONTOLOGY_LABEL = 'cell_type_ontology_term_label'\n",
    "MARKER_GENES = 'author_cell_type_markers'\n",
    "AUTHOR_CELL_TYPE_DESCRIPTION = 'author_cell_type_description'"
   ]
  },
  {
   "cell_type": "markdown",
   "metadata": {},
   "source": [
    "# Load data"
   ]
  },
  {
   "cell_type": "code",
   "execution_count": 4,
   "metadata": {},
   "outputs": [],
   "source": [
    "adata = sc.read_h5ad(H5AD_PATH)\n",
    "#obs = get_gspread_df(GSPREAD_JSON, DATASET_ID, \"tier_1\", \"obs\")\n",
    "#uns = get_gspread_df(GSPREAD_JSON, DATASET_ID, \"tier_1\", \"uns\")"
   ]
  },
  {
   "cell_type": "code",
   "execution_count": 11,
   "metadata": {},
   "outputs": [
    {
     "data": {
      "text/plain": [
       "Index(['celltype', 'majorType', 'sampleID', 'PatientID', 'datasets', 'City',\n",
       "       'Age', 'Sex', 'Sample type', 'CoVID-19 severity', 'Sample time',\n",
       "       'Sampling day (Days after symptom onset)', 'SARS-CoV-2',\n",
       "       'Single cell sequencing platform', 'BCR single cell sequencing',\n",
       "       'TCR single cell sequencing', 'Outcome', 'Comorbidities',\n",
       "       'COVID-19-related medication and anti-microbials', 'Leukocytes [G/L]',\n",
       "       'Neutrophils [G/L]', 'Lymphocytes [G/L]', 'Unpublished'],\n",
       "      dtype='object')"
      ]
     },
     "execution_count": 11,
     "metadata": {},
     "output_type": "execute_result"
    }
   ],
   "source": [
    "adata.obs.columns"
   ]
  },
  {
   "cell_type": "code",
   "execution_count": 16,
   "metadata": {},
   "outputs": [
    {
     "data": {
      "text/plain": [
       "View of AnnData object with n_obs × n_vars = 63516 × 27943\n",
       "    obs: 'celltype', 'majorType', 'sampleID', 'PatientID', 'datasets', 'City', 'Age', 'Sex', 'Sample type', 'CoVID-19 severity', 'Sample time', 'Sampling day (Days after symptom onset)', 'SARS-CoV-2', 'Single cell sequencing platform', 'BCR single cell sequencing', 'TCR single cell sequencing', 'Outcome', 'Comorbidities', 'COVID-19-related medication and anti-microbials', 'Leukocytes [G/L]', 'Neutrophils [G/L]', 'Lymphocytes [G/L]', 'Unpublished'\n",
       "    var: 'EnsemblID'"
      ]
     },
     "execution_count": 16,
     "metadata": {},
     "output_type": "execute_result"
    }
   ],
   "source": [
    "sample_types_lung = [\n",
    "    'fresh BALF',\n",
    "    'fresh Sputum',\n",
    "    'fresh PFMC'\n",
    "]\n",
    "\n",
    "adata = adata[adata.obs['Sample type'].isin(sample_types_lung)]\n",
    "adata"
   ]
  },
  {
   "cell_type": "code",
   "execution_count": 19,
   "metadata": {},
   "outputs": [
    {
     "data": {
      "text/plain": [
       "severe/critical    54078\n",
       "mild/moderate       9438\n",
       "Name: CoVID-19 severity, dtype: int64"
      ]
     },
     "execution_count": 19,
     "metadata": {},
     "output_type": "execute_result"
    }
   ],
   "source": [
    "adata.obs['CoVID-19 severity'].value_counts()"
   ]
  },
  {
   "cell_type": "markdown",
   "metadata": {},
   "source": [
    "-> no healthy lung samples\n",
    "-> only BALF, sputum, PFMC in mild-severe CODID19 patients"
   ]
  }
 ],
 "metadata": {
  "kernelspec": {
   "display_name": "hlcav2-env",
   "language": "python",
   "name": "python3"
  },
  "language_info": {
   "codemirror_mode": {
    "name": "ipython",
    "version": 3
   },
   "file_extension": ".py",
   "mimetype": "text/x-python",
   "name": "python",
   "nbconvert_exporter": "python",
   "pygments_lexer": "ipython3",
   "version": "3.10.0"
  }
 },
 "nbformat": 4,
 "nbformat_minor": 2
}
